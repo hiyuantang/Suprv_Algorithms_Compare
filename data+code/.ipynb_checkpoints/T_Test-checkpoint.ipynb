{
 "cells": [
  {
   "cell_type": "code",
   "execution_count": 1,
   "id": "pending-burke",
   "metadata": {},
   "outputs": [],
   "source": [
    "from scipy import stats"
   ]
  },
  {
   "cell_type": "code",
   "execution_count": 6,
   "id": "significant-document",
   "metadata": {},
   "outputs": [
    {
     "name": "stdout",
     "output_type": "stream",
     "text": [
      "Ttest_relResult(statistic=4.418076655583751, pvalue=0.0002953276901836368)\n",
      "Ttest_relResult(statistic=7.663617827849951, pvalue=3.153215863975778e-07)\n"
     ]
    }
   ],
   "source": [
    "# names are clear for the meaning\n",
    "# for instance, LOG_ACC stands for testing scores of\n",
    "# logistic regression and accuracy combination across all trials and datasets\n",
    "LOG_ACC = [0.848, 0.791, 0.727, 0.753, \n",
    "           0.847, 0.793, 0.724, 0.753, \n",
    "           0.850, 0.794, 0.724, 0.754, \n",
    "           0.848, 0.793, 0.730, 0.755, \n",
    "           0.848, 0.787, 0.728, 0.754]\n",
    "\n",
    "SVM_ACC = [0.849, 0.867, 0.961, 0.801,\n",
    "           0.848, 0.864, 0.961, 0.799,\n",
    "           0.852, 0.869, 0.961, 0.797,\n",
    "           0.849, 0.886, 0.965, 0.799,\n",
    "           0.850, 0.859, 0.964, 0.796]\n",
    "\n",
    "KNN_ACC = [0.831, 0.831, 0.953, 0.782,\n",
    "           0.827, 0.831, 0.951, 0.780, \n",
    "           0.832, 0.832, 0.952, 0.780,\n",
    "           0.831, 0.829, 0.954, 0.784,\n",
    "           0.830, 0.828, 0.957, 0.781]\n",
    "\n",
    "print(stats.ttest_rel(SVM_ACC, LOG_ACC))\n",
    "print(stats.ttest_rel(SVM_ACC, KNN_ACC))"
   ]
  },
  {
   "cell_type": "code",
   "execution_count": 16,
   "id": "ambient-person",
   "metadata": {},
   "outputs": [
    {
     "name": "stdout",
     "output_type": "stream",
     "text": [
      "Ttest_relResult(statistic=4.412731287017521, pvalue=0.000298938561923762)\n",
      "Ttest_relResult(statistic=4.0131211472377295, pvalue=0.0007435688870941519)\n"
     ]
    }
   ],
   "source": [
    "LOG_ROC = [0.763, 0.745, 0.728, 0.754, \n",
    "           0.759, 0.749, 0.725, 0.754, \n",
    "           0.760, 0.751, 0.726, 0.754, \n",
    "           0.762, 0.748, 0.731, 0.755, \n",
    "           0.761, 0.741, 0.730, 0.755]\n",
    "\n",
    "SVM_ROC = [0.762, 0.830, 0.961, 0.803,\n",
    "           0.769, 0.829, 0.961, 0.799,\n",
    "           0.757, 0.832, 0.961, 0.798,\n",
    "           0.759, 0.803, 0.965, 0.802,\n",
    "           0.762, 0.823, 0.964, 0.797]\n",
    "\n",
    "KNN_ROC = [0.711, 0.770, 0.948, 0.783,\n",
    "           0.711, 0.770, 0.946, 0.779,\n",
    "           0.719, 0.772, 0.994, 0.588,\n",
    "           0.718, 0.763, 0.947, 0.782,\n",
    "           0.723, 0.759, 0.949, 0.777]\n",
    "\n",
    "print(stats.ttest_rel(SVM_ROC, LOG_ROC))\n",
    "print(stats.ttest_rel(SVM_ROC, KNN_ROC))"
   ]
  },
  {
   "cell_type": "code",
   "execution_count": 17,
   "id": "forty-debate",
   "metadata": {},
   "outputs": [
    {
     "name": "stdout",
     "output_type": "stream",
     "text": [
      "Ttest_relResult(statistic=4.024090929012991, pvalue=0.0007251688031404764)\n",
      "Ttest_relResult(statistic=5.740503493107387, pvalue=1.5641349667726107e-05)\n"
     ]
    }
   ],
   "source": [
    "LOG_F1 = [0.657, 0.849, 0.733, 0.753, \n",
    "          0.657, 0.849, 0.725, 0.751, \n",
    "          0.665, 0.849, 0.728, 0.752,\n",
    "          0.657, 0.849, 0.736, 0.754, \n",
    "          0.655, 0.845, 0.736, 0.752]\n",
    "\n",
    "SVM_F1 = [0.655, 0.903, 0.960, 0.802,\n",
    "          0.662, 0.901, 0.960, 0.798,\n",
    "          0.653, 0.905, 0.961, 0.794,\n",
    "          0.653, 0.903, 0.965, 0.796,\n",
    "          0.658, 0.898, 0.964, 0.795]\n",
    "\n",
    "KNN_F1 = [0.587, 0.880, 0.952, 0.781,\n",
    "          0.585, 0.880, 0.951, 0.779,\n",
    "          0.588, 0.881, 0.951, 0.775,\n",
    "          0.605, 0.879, 0.953, 0.780,\n",
    "          0.597, 0.879, 0.957, 0.778]\n",
    "\n",
    "print(stats.ttest_rel(SVM_F1, LOG_F1))\n",
    "print(stats.ttest_rel(SVM_F1, KNN_F1))"
   ]
  },
  {
   "cell_type": "code",
   "execution_count": 18,
   "id": "synthetic-estonia",
   "metadata": {},
   "outputs": [
    {
     "name": "stdout",
     "output_type": "stream",
     "text": [
      "Ttest_relResult(statistic=0.7900449135111086, pvalue=0.4426784041535602)\n",
      "Ttest_relResult(statistic=8.199426995086952, pvalue=1.026979519138968e-06)\n"
     ]
    }
   ],
   "source": [
    "LOG_ADULT = [0.848, 0.763, 0.657, \n",
    "             0.847, 0.759, 0.657, \n",
    "             0.850, 0.760, 0.655, \n",
    "             0.848, 0.762, 0.657, \n",
    "             0.848, 0.761, 0.655]\n",
    "\n",
    "SVM_ADULT = [0.849, 0.762, 0.655, \n",
    "             0.848, 0.769, 0.662, \n",
    "             0.852, 0.757, 0.653, \n",
    "             0.849, 0.759, 0.653, \n",
    "             0.850, 0.762, 0.658]\n",
    "\n",
    "KNN_ADULT = [0.831, 0.711, 0.587,\n",
    "             0.827, 0.711, 0.585,\n",
    "             0.832, 0.719, 0.588,\n",
    "             0.831, 0.718, 0.605,\n",
    "             0.830, 0.723, 0.597]\n",
    "\n",
    "print(stats.ttest_rel(SVM_ADULT, LOG_ADULT))\n",
    "print(stats.ttest_rel(SVM_ADULT, KNN_ADULT))"
   ]
  },
  {
   "cell_type": "code",
   "execution_count": 20,
   "id": "thermal-outreach",
   "metadata": {},
   "outputs": [
    {
     "name": "stdout",
     "output_type": "stream",
     "text": [
      "Ttest_relResult(statistic=21.90125702293298, pvalue=3.1293554028811263e-12)\n",
      "Ttest_relResult(statistic=8.836834764377297, pvalue=4.222829766925462e-07)\n"
     ]
    }
   ],
   "source": [
    "LOG_MAGIC = [0.791, 0.745, 0.849,\n",
    "             0.793, 0.749, 0.849,\n",
    "             0.794, 0.751, 0.849, \n",
    "             0.793, 0.748, 0.849, \n",
    "             0.787, 0.741, 0.845]\n",
    "\n",
    "SVM_MAGIC = [0.867, 0.830, 0.903,\n",
    "             0.864, 0.829, 0.901, \n",
    "             0.869, 0.832, 0.905,\n",
    "             0.866, 0.830, 0.903,\n",
    "             0.859, 0.823, 0.898]\n",
    "\n",
    "KNN_MAGIC = [0.831, 0.770, 0.880,\n",
    "             0.831, 0.770, 0.880,\n",
    "             0.832, 0.772, 0.881, \n",
    "             0.829, 0.763, 0.879,\n",
    "             0.828, 0.759, 0.879]\n",
    "\n",
    "print(stats.ttest_rel(SVM_MAGIC, LOG_MAGIC))\n",
    "print(stats.ttest_rel(SVM_MAGIC, KNN_MAGIC))"
   ]
  },
  {
   "cell_type": "code",
   "execution_count": 21,
   "id": "pending-compensation",
   "metadata": {},
   "outputs": [
    {
     "name": "stdout",
     "output_type": "stream",
     "text": [
      "Ttest_relResult(statistic=288.36264243614977, pvalue=8.024127666758196e-28)\n",
      "Ttest_relResult(statistic=11.693222948607955, pvalue=1.3032337159666202e-08)\n"
     ]
    }
   ],
   "source": [
    "LOG_LETTER = [0.727, 0.728, 0.733,\n",
    "              0.724, 0.725, 0.725, \n",
    "              0.724, 0.726, 0.728,\n",
    "              0.730, 0.731, 0.736,\n",
    "              0.728, 0.730, 0.736]\n",
    "\n",
    "SVM_LETTER = [0.961, 0.961, 0.960,\n",
    "              0.961, 0.961, 0.960,\n",
    "              0.961, 0.961, 0.961,\n",
    "              0.965, 0.965, 0.965,\n",
    "              0.964, 0.964, 0.964]\n",
    "\n",
    "KNN_LETTER = [0.953, 0.948, 0.952,\n",
    "              0.951, 0.946, 0.951,\n",
    "              0.952, 0.944, 0.951,\n",
    "              0.954, 0.947, 0.953,\n",
    "              0.957, 0.947, 0.957]\n",
    "\n",
    "print(stats.ttest_rel(SVM_LETTER, LOG_LETTER))\n",
    "print(stats.ttest_rel(SVM_LETTER, KNN_LETTER))"
   ]
  },
  {
   "cell_type": "code",
   "execution_count": 22,
   "id": "acceptable-belle",
   "metadata": {},
   "outputs": [
    {
     "name": "stdout",
     "output_type": "stream",
     "text": [
      "Ttest_relResult(statistic=60.547074874531056, pvalue=2.420224618052197e-18)\n",
      "Ttest_relResult(statistic=37.11954290015273, pvalue=2.1916616511960262e-15)\n"
     ]
    }
   ],
   "source": [
    "LOG_COVTYPE = [0.753, 0.754, 0.751,\n",
    "               0.753, 0.754, 0.751,\n",
    "               0.754, 0.754, 0.752,\n",
    "               0.755, 0.755, 0.754,\n",
    "               0.754, 0.755, 0.752]\n",
    "\n",
    "SVM_COVTYPE = [0.801, 0.803, 0.802, \n",
    "               0.799, 0.799, 0.798,\n",
    "               0.797, 0.798, 0.794,\n",
    "               0.799, 0.802, 0.796,\n",
    "               0.796, 0.797, 0.795]\n",
    "\n",
    "KNN_COVTYPE = [0.782, 0.783, 0.781,\n",
    "               0.780, 0.779, 0.779,\n",
    "               0.780, 0.779, 0.775, \n",
    "               0.784, 0.782, 0.780,\n",
    "               0.781, 0.777, 0.778]\n",
    "\n",
    "print(stats.ttest_rel(SVM_COVTYPE, LOG_COVTYPE))\n",
    "print(stats.ttest_rel(SVM_COVTYPE, KNN_COVTYPE))"
   ]
  },
  {
   "cell_type": "code",
   "execution_count": null,
   "id": "metallic-removal",
   "metadata": {},
   "outputs": [],
   "source": [
    "\n"
   ]
  }
 ],
 "metadata": {
  "kernelspec": {
   "display_name": "Python 3",
   "language": "python",
   "name": "python3"
  },
  "language_info": {
   "codemirror_mode": {
    "name": "ipython",
    "version": 3
   },
   "file_extension": ".py",
   "mimetype": "text/x-python",
   "name": "python",
   "nbconvert_exporter": "python",
   "pygments_lexer": "ipython3",
   "version": "3.8.8"
  }
 },
 "nbformat": 4,
 "nbformat_minor": 5
}
